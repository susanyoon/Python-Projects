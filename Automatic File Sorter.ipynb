{
 "cells": [
  {
   "cell_type": "markdown",
   "id": "0d56f6f3-c1c4-4184-9bb1-6339f38e6791",
   "metadata": {},
   "source": [
    "**Automatic File Sorter in File Explorer**"
   ]
  },
  {
   "cell_type": "code",
   "execution_count": 48,
   "id": "b77cd25a-bdb6-49e4-a711-d3a9241cef50",
   "metadata": {},
   "outputs": [],
   "source": [
    "import os, shutil"
   ]
  },
  {
   "cell_type": "code",
   "execution_count": 50,
   "id": "1ca2fa4b-4ee1-4f45-9bb2-83e3b27fcf62",
   "metadata": {},
   "outputs": [],
   "source": [
    "path = r\"C:/Susan Yoon/Python Tutorial/\""
   ]
  },
  {
   "cell_type": "code",
   "execution_count": 52,
   "id": "3f2c27d1-41d3-45a3-b999-3bad74b046af",
   "metadata": {},
   "outputs": [],
   "source": [
    "file_name = os.listdir(path)"
   ]
  },
  {
   "cell_type": "code",
   "execution_count": 54,
   "id": "75db0b40-83ef-4c60-8bd7-98a3f7e9abe6",
   "metadata": {},
   "outputs": [],
   "source": [
    "folder_names = ['csv files', 'image files', 'spreadsheet files', 'pdf files']\n",
    "\n",
    "for loop in range(0,4):\n",
    "    if not os.path.exists(path + folder_names[loop]):\n",
    "        os.makedirs(path + folder_names[loop])\n",
    "\n",
    "for file in file_name:\n",
    "    if \".csv\" in file and not os.path.exists(path + \"csv files/\" + file):\n",
    "        shutil.move(path + file, path + \"csv files/\" + file)\n",
    "    elif \".jpg\" in file and not os.path.exists(path + \"image files/\" + file):\n",
    "        shutil.move(path + file, path + \"image files/\" + file)\n",
    "    elif \".xlsx\" in file and not os.path.exists(path + \"spreadsheet files/\" + file):\n",
    "        shutil.move(path + file, path + \"spreadsheet files/\" + file)\n",
    "    elif \".pdf\" in file and not os.path.exists(path + \"pdf files/\" + file):\n",
    "        shutil.move(path + file, path + \"pdf files/\" + file)"
   ]
  },
  {
   "cell_type": "code",
   "execution_count": 46,
   "id": "ad336603-0c1f-4cbe-a633-0d4aae17afb0",
   "metadata": {},
   "outputs": [],
   "source": []
  },
  {
   "cell_type": "code",
   "execution_count": null,
   "id": "18cd6ccd-50f3-4290-9b5b-b4e9f9d1648e",
   "metadata": {},
   "outputs": [],
   "source": []
  },
  {
   "cell_type": "code",
   "execution_count": null,
   "id": "b7c6e8c2-f157-4311-85dd-1764bd848a80",
   "metadata": {},
   "outputs": [],
   "source": []
  },
  {
   "cell_type": "code",
   "execution_count": null,
   "id": "54351b24-f9c8-47b6-a8bd-1d01fea9b223",
   "metadata": {},
   "outputs": [],
   "source": []
  },
  {
   "cell_type": "code",
   "execution_count": null,
   "id": "ccad4696-daef-4643-909e-0bfcceb10516",
   "metadata": {},
   "outputs": [],
   "source": []
  },
  {
   "cell_type": "code",
   "execution_count": null,
   "id": "c5870871-5982-4471-8bf4-175d69e99806",
   "metadata": {},
   "outputs": [],
   "source": []
  }
 ],
 "metadata": {
  "kernelspec": {
   "display_name": "Python 3 (ipykernel)",
   "language": "python",
   "name": "python3"
  },
  "language_info": {
   "codemirror_mode": {
    "name": "ipython",
    "version": 3
   },
   "file_extension": ".py",
   "mimetype": "text/x-python",
   "name": "python",
   "nbconvert_exporter": "python",
   "pygments_lexer": "ipython3",
   "version": "3.12.4"
  }
 },
 "nbformat": 4,
 "nbformat_minor": 5
}
